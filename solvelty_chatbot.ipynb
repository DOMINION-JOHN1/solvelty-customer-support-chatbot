{
  "nbformat": 4,
  "nbformat_minor": 0,
  "metadata": {
    "colab": {
      "provenance": [],
      "gpuType": "T4"
    },
    "kernelspec": {
      "name": "python3",
      "display_name": "Python 3"
    },
    "language_info": {
      "name": "python"
    },
    "accelerator": "GPU"
  },
  "cells": [
    {
      "cell_type": "code",
      "execution_count": null,
      "metadata": {
        "colab": {
          "base_uri": "https://localhost:8080/"
        },
        "id": "03PEzaKwybos",
        "outputId": "4fd66569-4661-4e1a-d843-31a4b3bcacc2"
      },
      "outputs": [
        {
          "output_type": "stream",
          "name": "stdout",
          "text": [
            "Collecting pydantic==1.10.8\n",
            "  Downloading pydantic-1.10.8-cp310-cp310-manylinux_2_17_x86_64.manylinux2014_x86_64.whl (3.1 MB)\n",
            "\u001b[2K     \u001b[90m━━━━━━━━━━━━━━━━━━━━━━━━━━━━━━━━━━━━━━━━\u001b[0m \u001b[32m3.1/3.1 MB\u001b[0m \u001b[31m31.7 MB/s\u001b[0m eta \u001b[36m0:00:00\u001b[0m\n",
            "\u001b[?25hRequirement already satisfied: typing-extensions>=4.2.0 in /usr/local/lib/python3.10/dist-packages (from pydantic==1.10.8) (4.12.2)\n",
            "Installing collected packages: pydantic\n",
            "  Attempting uninstall: pydantic\n",
            "    Found existing installation: pydantic 2.7.4\n",
            "    Uninstalling pydantic-2.7.4:\n",
            "      Successfully uninstalled pydantic-2.7.4\n",
            "Successfully installed pydantic-1.10.8\n",
            "Collecting langchain\n",
            "  Downloading langchain-0.2.6-py3-none-any.whl (975 kB)\n",
            "\u001b[2K     \u001b[90m━━━━━━━━━━━━━━━━━━━━━━━━━━━━━━━━━━━━━━━━\u001b[0m \u001b[32m975.5/975.5 kB\u001b[0m \u001b[31m18.6 MB/s\u001b[0m eta \u001b[36m0:00:00\u001b[0m\n",
            "\u001b[?25hRequirement already satisfied: PyYAML>=5.3 in /usr/local/lib/python3.10/dist-packages (from langchain) (6.0.1)\n",
            "Requirement already satisfied: SQLAlchemy<3,>=1.4 in /usr/local/lib/python3.10/dist-packages (from langchain) (2.0.31)\n",
            "Requirement already satisfied: aiohttp<4.0.0,>=3.8.3 in /usr/local/lib/python3.10/dist-packages (from langchain) (3.9.5)\n",
            "Requirement already satisfied: async-timeout<5.0.0,>=4.0.0 in /usr/local/lib/python3.10/dist-packages (from langchain) (4.0.3)\n",
            "Collecting langchain-core<0.3.0,>=0.2.10 (from langchain)\n",
            "  Downloading langchain_core-0.2.10-py3-none-any.whl (332 kB)\n",
            "\u001b[2K     \u001b[90m━━━━━━━━━━━━━━━━━━━━━━━━━━━━━━━━━━━━━━━━\u001b[0m \u001b[32m332.8/332.8 kB\u001b[0m \u001b[31m41.4 MB/s\u001b[0m eta \u001b[36m0:00:00\u001b[0m\n",
            "\u001b[?25hCollecting langchain-text-splitters<0.3.0,>=0.2.0 (from langchain)\n",
            "  Downloading langchain_text_splitters-0.2.2-py3-none-any.whl (25 kB)\n",
            "Collecting langsmith<0.2.0,>=0.1.17 (from langchain)\n",
            "  Downloading langsmith-0.1.83-py3-none-any.whl (127 kB)\n",
            "\u001b[2K     \u001b[90m━━━━━━━━━━━━━━━━━━━━━━━━━━━━━━━━━━━━━━━━\u001b[0m \u001b[32m127.5/127.5 kB\u001b[0m \u001b[31m22.0 MB/s\u001b[0m eta \u001b[36m0:00:00\u001b[0m\n",
            "\u001b[?25hRequirement already satisfied: numpy<2,>=1 in /usr/local/lib/python3.10/dist-packages (from langchain) (1.25.2)\n",
            "Requirement already satisfied: pydantic<3,>=1 in /usr/local/lib/python3.10/dist-packages (from langchain) (1.10.8)\n",
            "Requirement already satisfied: requests<3,>=2 in /usr/local/lib/python3.10/dist-packages (from langchain) (2.31.0)\n",
            "Requirement already satisfied: tenacity!=8.4.0,<9.0.0,>=8.1.0 in /usr/local/lib/python3.10/dist-packages (from langchain) (8.4.2)\n",
            "Requirement already satisfied: aiosignal>=1.1.2 in /usr/local/lib/python3.10/dist-packages (from aiohttp<4.0.0,>=3.8.3->langchain) (1.3.1)\n",
            "Requirement already satisfied: attrs>=17.3.0 in /usr/local/lib/python3.10/dist-packages (from aiohttp<4.0.0,>=3.8.3->langchain) (23.2.0)\n",
            "Requirement already satisfied: frozenlist>=1.1.1 in /usr/local/lib/python3.10/dist-packages (from aiohttp<4.0.0,>=3.8.3->langchain) (1.4.1)\n",
            "Requirement already satisfied: multidict<7.0,>=4.5 in /usr/local/lib/python3.10/dist-packages (from aiohttp<4.0.0,>=3.8.3->langchain) (6.0.5)\n",
            "Requirement already satisfied: yarl<2.0,>=1.0 in /usr/local/lib/python3.10/dist-packages (from aiohttp<4.0.0,>=3.8.3->langchain) (1.9.4)\n",
            "Collecting jsonpatch<2.0,>=1.33 (from langchain-core<0.3.0,>=0.2.10->langchain)\n",
            "  Downloading jsonpatch-1.33-py2.py3-none-any.whl (12 kB)\n",
            "Requirement already satisfied: packaging<25,>=23.2 in /usr/local/lib/python3.10/dist-packages (from langchain-core<0.3.0,>=0.2.10->langchain) (24.1)\n",
            "Collecting orjson<4.0.0,>=3.9.14 (from langsmith<0.2.0,>=0.1.17->langchain)\n",
            "  Downloading orjson-3.10.6-cp310-cp310-manylinux_2_17_x86_64.manylinux2014_x86_64.whl (141 kB)\n",
            "\u001b[2K     \u001b[90m━━━━━━━━━━━━━━━━━━━━━━━━━━━━━━━━━━━━━━━━\u001b[0m \u001b[32m141.1/141.1 kB\u001b[0m \u001b[31m18.3 MB/s\u001b[0m eta \u001b[36m0:00:00\u001b[0m\n",
            "\u001b[?25hRequirement already satisfied: typing-extensions>=4.2.0 in /usr/local/lib/python3.10/dist-packages (from pydantic<3,>=1->langchain) (4.12.2)\n",
            "Requirement already satisfied: charset-normalizer<4,>=2 in /usr/local/lib/python3.10/dist-packages (from requests<3,>=2->langchain) (3.3.2)\n",
            "Requirement already satisfied: idna<4,>=2.5 in /usr/local/lib/python3.10/dist-packages (from requests<3,>=2->langchain) (3.7)\n",
            "Requirement already satisfied: urllib3<3,>=1.21.1 in /usr/local/lib/python3.10/dist-packages (from requests<3,>=2->langchain) (2.0.7)\n",
            "Requirement already satisfied: certifi>=2017.4.17 in /usr/local/lib/python3.10/dist-packages (from requests<3,>=2->langchain) (2024.6.2)\n",
            "Requirement already satisfied: greenlet!=0.4.17 in /usr/local/lib/python3.10/dist-packages (from SQLAlchemy<3,>=1.4->langchain) (3.0.3)\n",
            "Collecting jsonpointer>=1.9 (from jsonpatch<2.0,>=1.33->langchain-core<0.3.0,>=0.2.10->langchain)\n",
            "  Downloading jsonpointer-3.0.0-py2.py3-none-any.whl (7.6 kB)\n",
            "Installing collected packages: orjson, jsonpointer, langsmith, jsonpatch, langchain-core, langchain-text-splitters, langchain\n",
            "Successfully installed jsonpatch-1.33 jsonpointer-3.0.0 langchain-0.2.6 langchain-core-0.2.10 langchain-text-splitters-0.2.2 langsmith-0.1.83 orjson-3.10.6\n",
            "Collecting langchain_pinecone\n",
            "  Downloading langchain_pinecone-0.1.1-py3-none-any.whl (8.4 kB)\n",
            "Requirement already satisfied: langchain-core<0.3,>=0.1.52 in /usr/local/lib/python3.10/dist-packages (from langchain_pinecone) (0.2.10)\n",
            "Requirement already satisfied: numpy<2,>=1 in /usr/local/lib/python3.10/dist-packages (from langchain_pinecone) (1.25.2)\n",
            "Collecting pinecone-client<4.0.0,>=3.2.2 (from langchain_pinecone)\n",
            "  Downloading pinecone_client-3.2.2-py3-none-any.whl (215 kB)\n",
            "\u001b[2K     \u001b[90m━━━━━━━━━━━━━━━━━━━━━━━━━━━━━━━━━━━━━━━━\u001b[0m \u001b[32m215.9/215.9 kB\u001b[0m \u001b[31m5.4 MB/s\u001b[0m eta \u001b[36m0:00:00\u001b[0m\n",
            "\u001b[?25hRequirement already satisfied: PyYAML>=5.3 in /usr/local/lib/python3.10/dist-packages (from langchain-core<0.3,>=0.1.52->langchain_pinecone) (6.0.1)\n",
            "Requirement already satisfied: jsonpatch<2.0,>=1.33 in /usr/local/lib/python3.10/dist-packages (from langchain-core<0.3,>=0.1.52->langchain_pinecone) (1.33)\n",
            "Requirement already satisfied: langsmith<0.2.0,>=0.1.75 in /usr/local/lib/python3.10/dist-packages (from langchain-core<0.3,>=0.1.52->langchain_pinecone) (0.1.83)\n",
            "Requirement already satisfied: packaging<25,>=23.2 in /usr/local/lib/python3.10/dist-packages (from langchain-core<0.3,>=0.1.52->langchain_pinecone) (24.1)\n",
            "Requirement already satisfied: pydantic<3,>=1 in /usr/local/lib/python3.10/dist-packages (from langchain-core<0.3,>=0.1.52->langchain_pinecone) (1.10.8)\n",
            "Requirement already satisfied: tenacity!=8.4.0,<9.0.0,>=8.1.0 in /usr/local/lib/python3.10/dist-packages (from langchain-core<0.3,>=0.1.52->langchain_pinecone) (8.4.2)\n",
            "Requirement already satisfied: certifi>=2019.11.17 in /usr/local/lib/python3.10/dist-packages (from pinecone-client<4.0.0,>=3.2.2->langchain_pinecone) (2024.6.2)\n",
            "Requirement already satisfied: tqdm>=4.64.1 in /usr/local/lib/python3.10/dist-packages (from pinecone-client<4.0.0,>=3.2.2->langchain_pinecone) (4.66.4)\n",
            "Requirement already satisfied: typing-extensions>=3.7.4 in /usr/local/lib/python3.10/dist-packages (from pinecone-client<4.0.0,>=3.2.2->langchain_pinecone) (4.12.2)\n",
            "Requirement already satisfied: urllib3>=1.26.0 in /usr/local/lib/python3.10/dist-packages (from pinecone-client<4.0.0,>=3.2.2->langchain_pinecone) (2.0.7)\n",
            "Requirement already satisfied: jsonpointer>=1.9 in /usr/local/lib/python3.10/dist-packages (from jsonpatch<2.0,>=1.33->langchain-core<0.3,>=0.1.52->langchain_pinecone) (3.0.0)\n",
            "Requirement already satisfied: orjson<4.0.0,>=3.9.14 in /usr/local/lib/python3.10/dist-packages (from langsmith<0.2.0,>=0.1.75->langchain-core<0.3,>=0.1.52->langchain_pinecone) (3.10.6)\n",
            "Requirement already satisfied: requests<3,>=2 in /usr/local/lib/python3.10/dist-packages (from langsmith<0.2.0,>=0.1.75->langchain-core<0.3,>=0.1.52->langchain_pinecone) (2.31.0)\n",
            "Requirement already satisfied: charset-normalizer<4,>=2 in /usr/local/lib/python3.10/dist-packages (from requests<3,>=2->langsmith<0.2.0,>=0.1.75->langchain-core<0.3,>=0.1.52->langchain_pinecone) (3.3.2)\n",
            "Requirement already satisfied: idna<4,>=2.5 in /usr/local/lib/python3.10/dist-packages (from requests<3,>=2->langsmith<0.2.0,>=0.1.75->langchain-core<0.3,>=0.1.52->langchain_pinecone) (3.7)\n",
            "Installing collected packages: pinecone-client, langchain_pinecone\n",
            "Successfully installed langchain_pinecone-0.1.1 pinecone-client-3.2.2\n",
            "Requirement already satisfied: langchain[docarray] in /usr/local/lib/python3.10/dist-packages (0.2.6)\n",
            "\u001b[33mWARNING: langchain 0.2.6 does not provide the extra 'docarray'\u001b[0m\u001b[33m\n",
            "\u001b[0mRequirement already satisfied: PyYAML>=5.3 in /usr/local/lib/python3.10/dist-packages (from langchain[docarray]) (6.0.1)\n",
            "Requirement already satisfied: SQLAlchemy<3,>=1.4 in /usr/local/lib/python3.10/dist-packages (from langchain[docarray]) (2.0.31)\n",
            "Requirement already satisfied: aiohttp<4.0.0,>=3.8.3 in /usr/local/lib/python3.10/dist-packages (from langchain[docarray]) (3.9.5)\n",
            "Requirement already satisfied: async-timeout<5.0.0,>=4.0.0 in /usr/local/lib/python3.10/dist-packages (from langchain[docarray]) (4.0.3)\n",
            "Requirement already satisfied: langchain-core<0.3.0,>=0.2.10 in /usr/local/lib/python3.10/dist-packages (from langchain[docarray]) (0.2.10)\n",
            "Requirement already satisfied: langchain-text-splitters<0.3.0,>=0.2.0 in /usr/local/lib/python3.10/dist-packages (from langchain[docarray]) (0.2.2)\n",
            "Requirement already satisfied: langsmith<0.2.0,>=0.1.17 in /usr/local/lib/python3.10/dist-packages (from langchain[docarray]) (0.1.83)\n",
            "Requirement already satisfied: numpy<2,>=1 in /usr/local/lib/python3.10/dist-packages (from langchain[docarray]) (1.25.2)\n",
            "Requirement already satisfied: pydantic<3,>=1 in /usr/local/lib/python3.10/dist-packages (from langchain[docarray]) (1.10.8)\n",
            "Requirement already satisfied: requests<3,>=2 in /usr/local/lib/python3.10/dist-packages (from langchain[docarray]) (2.31.0)\n",
            "Requirement already satisfied: tenacity!=8.4.0,<9.0.0,>=8.1.0 in /usr/local/lib/python3.10/dist-packages (from langchain[docarray]) (8.4.2)\n",
            "Requirement already satisfied: aiosignal>=1.1.2 in /usr/local/lib/python3.10/dist-packages (from aiohttp<4.0.0,>=3.8.3->langchain[docarray]) (1.3.1)\n",
            "Requirement already satisfied: attrs>=17.3.0 in /usr/local/lib/python3.10/dist-packages (from aiohttp<4.0.0,>=3.8.3->langchain[docarray]) (23.2.0)\n",
            "Requirement already satisfied: frozenlist>=1.1.1 in /usr/local/lib/python3.10/dist-packages (from aiohttp<4.0.0,>=3.8.3->langchain[docarray]) (1.4.1)\n",
            "Requirement already satisfied: multidict<7.0,>=4.5 in /usr/local/lib/python3.10/dist-packages (from aiohttp<4.0.0,>=3.8.3->langchain[docarray]) (6.0.5)\n",
            "Requirement already satisfied: yarl<2.0,>=1.0 in /usr/local/lib/python3.10/dist-packages (from aiohttp<4.0.0,>=3.8.3->langchain[docarray]) (1.9.4)\n",
            "Requirement already satisfied: jsonpatch<2.0,>=1.33 in /usr/local/lib/python3.10/dist-packages (from langchain-core<0.3.0,>=0.2.10->langchain[docarray]) (1.33)\n",
            "Requirement already satisfied: packaging<25,>=23.2 in /usr/local/lib/python3.10/dist-packages (from langchain-core<0.3.0,>=0.2.10->langchain[docarray]) (24.1)\n",
            "Requirement already satisfied: orjson<4.0.0,>=3.9.14 in /usr/local/lib/python3.10/dist-packages (from langsmith<0.2.0,>=0.1.17->langchain[docarray]) (3.10.6)\n",
            "Requirement already satisfied: typing-extensions>=4.2.0 in /usr/local/lib/python3.10/dist-packages (from pydantic<3,>=1->langchain[docarray]) (4.12.2)\n",
            "Requirement already satisfied: charset-normalizer<4,>=2 in /usr/local/lib/python3.10/dist-packages (from requests<3,>=2->langchain[docarray]) (3.3.2)\n",
            "Requirement already satisfied: idna<4,>=2.5 in /usr/local/lib/python3.10/dist-packages (from requests<3,>=2->langchain[docarray]) (3.7)\n",
            "Requirement already satisfied: urllib3<3,>=1.21.1 in /usr/local/lib/python3.10/dist-packages (from requests<3,>=2->langchain[docarray]) (2.0.7)\n",
            "Requirement already satisfied: certifi>=2017.4.17 in /usr/local/lib/python3.10/dist-packages (from requests<3,>=2->langchain[docarray]) (2024.6.2)\n",
            "Requirement already satisfied: greenlet!=0.4.17 in /usr/local/lib/python3.10/dist-packages (from SQLAlchemy<3,>=1.4->langchain[docarray]) (3.0.3)\n",
            "Requirement already satisfied: jsonpointer>=1.9 in /usr/local/lib/python3.10/dist-packages (from jsonpatch<2.0,>=1.33->langchain-core<0.3.0,>=0.2.10->langchain[docarray]) (3.0.0)\n",
            "Requirement already satisfied: pinecone-client in /usr/local/lib/python3.10/dist-packages (3.2.2)\n",
            "Requirement already satisfied: certifi>=2019.11.17 in /usr/local/lib/python3.10/dist-packages (from pinecone-client) (2024.6.2)\n",
            "Requirement already satisfied: tqdm>=4.64.1 in /usr/local/lib/python3.10/dist-packages (from pinecone-client) (4.66.4)\n",
            "Requirement already satisfied: typing-extensions>=3.7.4 in /usr/local/lib/python3.10/dist-packages (from pinecone-client) (4.12.2)\n",
            "Requirement already satisfied: urllib3>=1.26.0 in /usr/local/lib/python3.10/dist-packages (from pinecone-client) (2.0.7)\n"
          ]
        }
      ],
      "source": [
        "!pip install pydantic==1.10.8\n",
        "!pip install langchain\n",
        "!pip install langchain_pinecone\n",
        "!pip install langchain[docarray]\n",
        "!pip install pinecone-client"
      ]
    },
    {
      "cell_type": "code",
      "source": [
        "!pip install requests\n",
        "!pip install --upgrade langchain-core\n",
        "!pip install langchain_openai\n",
        "!pip install openai\n",
        "!pip install langchain_community\n",
        "!pip install pypdf\n",
        "\n"
      ],
      "metadata": {
        "colab": {
          "base_uri": "https://localhost:8080/"
        },
        "id": "3PCkwgltyVFX",
        "outputId": "e8e8fed6-71eb-4a57-b3be-b5cd80d4004f"
      },
      "execution_count": null,
      "outputs": [
        {
          "output_type": "stream",
          "name": "stdout",
          "text": [
            "Requirement already satisfied: requests in /usr/local/lib/python3.10/dist-packages (2.31.0)\n",
            "Requirement already satisfied: charset-normalizer<4,>=2 in /usr/local/lib/python3.10/dist-packages (from requests) (3.3.2)\n",
            "Requirement already satisfied: idna<4,>=2.5 in /usr/local/lib/python3.10/dist-packages (from requests) (3.7)\n",
            "Requirement already satisfied: urllib3<3,>=1.21.1 in /usr/local/lib/python3.10/dist-packages (from requests) (2.0.7)\n",
            "Requirement already satisfied: certifi>=2017.4.17 in /usr/local/lib/python3.10/dist-packages (from requests) (2024.6.2)\n",
            "Requirement already satisfied: langchain-core in /usr/local/lib/python3.10/dist-packages (0.2.10)\n",
            "Requirement already satisfied: PyYAML>=5.3 in /usr/local/lib/python3.10/dist-packages (from langchain-core) (6.0.1)\n",
            "Requirement already satisfied: jsonpatch<2.0,>=1.33 in /usr/local/lib/python3.10/dist-packages (from langchain-core) (1.33)\n",
            "Requirement already satisfied: langsmith<0.2.0,>=0.1.75 in /usr/local/lib/python3.10/dist-packages (from langchain-core) (0.1.83)\n",
            "Requirement already satisfied: packaging<25,>=23.2 in /usr/local/lib/python3.10/dist-packages (from langchain-core) (24.1)\n",
            "Requirement already satisfied: pydantic<3,>=1 in /usr/local/lib/python3.10/dist-packages (from langchain-core) (1.10.8)\n",
            "Requirement already satisfied: tenacity!=8.4.0,<9.0.0,>=8.1.0 in /usr/local/lib/python3.10/dist-packages (from langchain-core) (8.4.2)\n",
            "Requirement already satisfied: jsonpointer>=1.9 in /usr/local/lib/python3.10/dist-packages (from jsonpatch<2.0,>=1.33->langchain-core) (3.0.0)\n",
            "Requirement already satisfied: orjson<4.0.0,>=3.9.14 in /usr/local/lib/python3.10/dist-packages (from langsmith<0.2.0,>=0.1.75->langchain-core) (3.10.6)\n",
            "Requirement already satisfied: requests<3,>=2 in /usr/local/lib/python3.10/dist-packages (from langsmith<0.2.0,>=0.1.75->langchain-core) (2.31.0)\n",
            "Requirement already satisfied: typing-extensions>=4.2.0 in /usr/local/lib/python3.10/dist-packages (from pydantic<3,>=1->langchain-core) (4.12.2)\n",
            "Requirement already satisfied: charset-normalizer<4,>=2 in /usr/local/lib/python3.10/dist-packages (from requests<3,>=2->langsmith<0.2.0,>=0.1.75->langchain-core) (3.3.2)\n",
            "Requirement already satisfied: idna<4,>=2.5 in /usr/local/lib/python3.10/dist-packages (from requests<3,>=2->langsmith<0.2.0,>=0.1.75->langchain-core) (3.7)\n",
            "Requirement already satisfied: urllib3<3,>=1.21.1 in /usr/local/lib/python3.10/dist-packages (from requests<3,>=2->langsmith<0.2.0,>=0.1.75->langchain-core) (2.0.7)\n",
            "Requirement already satisfied: certifi>=2017.4.17 in /usr/local/lib/python3.10/dist-packages (from requests<3,>=2->langsmith<0.2.0,>=0.1.75->langchain-core) (2024.6.2)\n",
            "Collecting langchain_openai\n",
            "  Downloading langchain_openai-0.1.13-py3-none-any.whl (45 kB)\n",
            "\u001b[2K     \u001b[90m━━━━━━━━━━━━━━━━━━━━━━━━━━━━━━━━━━━━━━━━\u001b[0m \u001b[32m45.9/45.9 kB\u001b[0m \u001b[31m2.1 MB/s\u001b[0m eta \u001b[36m0:00:00\u001b[0m\n",
            "\u001b[?25hRequirement already satisfied: langchain-core<0.3,>=0.2.2 in /usr/local/lib/python3.10/dist-packages (from langchain_openai) (0.2.10)\n",
            "Collecting openai<2.0.0,>=1.32.0 (from langchain_openai)\n",
            "  Downloading openai-1.35.8-py3-none-any.whl (328 kB)\n",
            "\u001b[2K     \u001b[90m━━━━━━━━━━━━━━━━━━━━━━━━━━━━━━━━━━━━━━━━\u001b[0m \u001b[32m328.1/328.1 kB\u001b[0m \u001b[31m10.5 MB/s\u001b[0m eta \u001b[36m0:00:00\u001b[0m\n",
            "\u001b[?25hCollecting tiktoken<1,>=0.7 (from langchain_openai)\n",
            "  Downloading tiktoken-0.7.0-cp310-cp310-manylinux_2_17_x86_64.manylinux2014_x86_64.whl (1.1 MB)\n",
            "\u001b[2K     \u001b[90m━━━━━━━━━━━━━━━━━━━━━━━━━━━━━━━━━━━━━━━━\u001b[0m \u001b[32m1.1/1.1 MB\u001b[0m \u001b[31m59.0 MB/s\u001b[0m eta \u001b[36m0:00:00\u001b[0m\n",
            "\u001b[?25hRequirement already satisfied: PyYAML>=5.3 in /usr/local/lib/python3.10/dist-packages (from langchain-core<0.3,>=0.2.2->langchain_openai) (6.0.1)\n",
            "Requirement already satisfied: jsonpatch<2.0,>=1.33 in /usr/local/lib/python3.10/dist-packages (from langchain-core<0.3,>=0.2.2->langchain_openai) (1.33)\n",
            "Requirement already satisfied: langsmith<0.2.0,>=0.1.75 in /usr/local/lib/python3.10/dist-packages (from langchain-core<0.3,>=0.2.2->langchain_openai) (0.1.83)\n",
            "Requirement already satisfied: packaging<25,>=23.2 in /usr/local/lib/python3.10/dist-packages (from langchain-core<0.3,>=0.2.2->langchain_openai) (24.1)\n",
            "Requirement already satisfied: pydantic<3,>=1 in /usr/local/lib/python3.10/dist-packages (from langchain-core<0.3,>=0.2.2->langchain_openai) (1.10.8)\n",
            "Requirement already satisfied: tenacity!=8.4.0,<9.0.0,>=8.1.0 in /usr/local/lib/python3.10/dist-packages (from langchain-core<0.3,>=0.2.2->langchain_openai) (8.4.2)\n",
            "Requirement already satisfied: anyio<5,>=3.5.0 in /usr/local/lib/python3.10/dist-packages (from openai<2.0.0,>=1.32.0->langchain_openai) (3.7.1)\n",
            "Requirement already satisfied: distro<2,>=1.7.0 in /usr/lib/python3/dist-packages (from openai<2.0.0,>=1.32.0->langchain_openai) (1.7.0)\n",
            "Collecting httpx<1,>=0.23.0 (from openai<2.0.0,>=1.32.0->langchain_openai)\n",
            "  Downloading httpx-0.27.0-py3-none-any.whl (75 kB)\n",
            "\u001b[2K     \u001b[90m━━━━━━━━━━━━━━━━━━━━━━━━━━━━━━━━━━━━━━━━\u001b[0m \u001b[32m75.6/75.6 kB\u001b[0m \u001b[31m13.6 MB/s\u001b[0m eta \u001b[36m0:00:00\u001b[0m\n",
            "\u001b[?25hRequirement already satisfied: sniffio in /usr/local/lib/python3.10/dist-packages (from openai<2.0.0,>=1.32.0->langchain_openai) (1.3.1)\n",
            "Requirement already satisfied: tqdm>4 in /usr/local/lib/python3.10/dist-packages (from openai<2.0.0,>=1.32.0->langchain_openai) (4.66.4)\n",
            "Requirement already satisfied: typing-extensions<5,>=4.7 in /usr/local/lib/python3.10/dist-packages (from openai<2.0.0,>=1.32.0->langchain_openai) (4.12.2)\n",
            "Requirement already satisfied: regex>=2022.1.18 in /usr/local/lib/python3.10/dist-packages (from tiktoken<1,>=0.7->langchain_openai) (2024.5.15)\n",
            "Requirement already satisfied: requests>=2.26.0 in /usr/local/lib/python3.10/dist-packages (from tiktoken<1,>=0.7->langchain_openai) (2.31.0)\n",
            "Requirement already satisfied: idna>=2.8 in /usr/local/lib/python3.10/dist-packages (from anyio<5,>=3.5.0->openai<2.0.0,>=1.32.0->langchain_openai) (3.7)\n",
            "Requirement already satisfied: exceptiongroup in /usr/local/lib/python3.10/dist-packages (from anyio<5,>=3.5.0->openai<2.0.0,>=1.32.0->langchain_openai) (1.2.1)\n",
            "Requirement already satisfied: certifi in /usr/local/lib/python3.10/dist-packages (from httpx<1,>=0.23.0->openai<2.0.0,>=1.32.0->langchain_openai) (2024.6.2)\n",
            "Collecting httpcore==1.* (from httpx<1,>=0.23.0->openai<2.0.0,>=1.32.0->langchain_openai)\n",
            "  Downloading httpcore-1.0.5-py3-none-any.whl (77 kB)\n",
            "\u001b[2K     \u001b[90m━━━━━━━━━━━━━━━━━━━━━━━━━━━━━━━━━━━━━━━━\u001b[0m \u001b[32m77.9/77.9 kB\u001b[0m \u001b[31m13.3 MB/s\u001b[0m eta \u001b[36m0:00:00\u001b[0m\n",
            "\u001b[?25hCollecting h11<0.15,>=0.13 (from httpcore==1.*->httpx<1,>=0.23.0->openai<2.0.0,>=1.32.0->langchain_openai)\n",
            "  Downloading h11-0.14.0-py3-none-any.whl (58 kB)\n",
            "\u001b[2K     \u001b[90m━━━━━━━━━━━━━━━━━━━━━━━━━━━━━━━━━━━━━━━━\u001b[0m \u001b[32m58.3/58.3 kB\u001b[0m \u001b[31m10.3 MB/s\u001b[0m eta \u001b[36m0:00:00\u001b[0m\n",
            "\u001b[?25hRequirement already satisfied: jsonpointer>=1.9 in /usr/local/lib/python3.10/dist-packages (from jsonpatch<2.0,>=1.33->langchain-core<0.3,>=0.2.2->langchain_openai) (3.0.0)\n",
            "Requirement already satisfied: orjson<4.0.0,>=3.9.14 in /usr/local/lib/python3.10/dist-packages (from langsmith<0.2.0,>=0.1.75->langchain-core<0.3,>=0.2.2->langchain_openai) (3.10.6)\n",
            "Requirement already satisfied: charset-normalizer<4,>=2 in /usr/local/lib/python3.10/dist-packages (from requests>=2.26.0->tiktoken<1,>=0.7->langchain_openai) (3.3.2)\n",
            "Requirement already satisfied: urllib3<3,>=1.21.1 in /usr/local/lib/python3.10/dist-packages (from requests>=2.26.0->tiktoken<1,>=0.7->langchain_openai) (2.0.7)\n",
            "Installing collected packages: h11, tiktoken, httpcore, httpx, openai, langchain_openai\n",
            "Successfully installed h11-0.14.0 httpcore-1.0.5 httpx-0.27.0 langchain_openai-0.1.13 openai-1.35.8 tiktoken-0.7.0\n",
            "Requirement already satisfied: openai in /usr/local/lib/python3.10/dist-packages (1.35.8)\n",
            "Requirement already satisfied: anyio<5,>=3.5.0 in /usr/local/lib/python3.10/dist-packages (from openai) (3.7.1)\n",
            "Requirement already satisfied: distro<2,>=1.7.0 in /usr/lib/python3/dist-packages (from openai) (1.7.0)\n",
            "Requirement already satisfied: httpx<1,>=0.23.0 in /usr/local/lib/python3.10/dist-packages (from openai) (0.27.0)\n",
            "Requirement already satisfied: pydantic<3,>=1.9.0 in /usr/local/lib/python3.10/dist-packages (from openai) (1.10.8)\n",
            "Requirement already satisfied: sniffio in /usr/local/lib/python3.10/dist-packages (from openai) (1.3.1)\n",
            "Requirement already satisfied: tqdm>4 in /usr/local/lib/python3.10/dist-packages (from openai) (4.66.4)\n",
            "Requirement already satisfied: typing-extensions<5,>=4.7 in /usr/local/lib/python3.10/dist-packages (from openai) (4.12.2)\n",
            "Requirement already satisfied: idna>=2.8 in /usr/local/lib/python3.10/dist-packages (from anyio<5,>=3.5.0->openai) (3.7)\n",
            "Requirement already satisfied: exceptiongroup in /usr/local/lib/python3.10/dist-packages (from anyio<5,>=3.5.0->openai) (1.2.1)\n",
            "Requirement already satisfied: certifi in /usr/local/lib/python3.10/dist-packages (from httpx<1,>=0.23.0->openai) (2024.6.2)\n",
            "Requirement already satisfied: httpcore==1.* in /usr/local/lib/python3.10/dist-packages (from httpx<1,>=0.23.0->openai) (1.0.5)\n",
            "Requirement already satisfied: h11<0.15,>=0.13 in /usr/local/lib/python3.10/dist-packages (from httpcore==1.*->httpx<1,>=0.23.0->openai) (0.14.0)\n",
            "Collecting langchain_community\n",
            "  Downloading langchain_community-0.2.6-py3-none-any.whl (2.2 MB)\n",
            "\u001b[2K     \u001b[90m━━━━━━━━━━━━━━━━━━━━━━━━━━━━━━━━━━━━━━━━\u001b[0m \u001b[32m2.2/2.2 MB\u001b[0m \u001b[31m33.3 MB/s\u001b[0m eta \u001b[36m0:00:00\u001b[0m\n",
            "\u001b[?25hRequirement already satisfied: PyYAML>=5.3 in /usr/local/lib/python3.10/dist-packages (from langchain_community) (6.0.1)\n",
            "Requirement already satisfied: SQLAlchemy<3,>=1.4 in /usr/local/lib/python3.10/dist-packages (from langchain_community) (2.0.31)\n",
            "Requirement already satisfied: aiohttp<4.0.0,>=3.8.3 in /usr/local/lib/python3.10/dist-packages (from langchain_community) (3.9.5)\n",
            "Collecting dataclasses-json<0.7,>=0.5.7 (from langchain_community)\n",
            "  Downloading dataclasses_json-0.6.7-py3-none-any.whl (28 kB)\n",
            "Requirement already satisfied: langchain<0.3.0,>=0.2.6 in /usr/local/lib/python3.10/dist-packages (from langchain_community) (0.2.6)\n",
            "Requirement already satisfied: langchain-core<0.3.0,>=0.2.10 in /usr/local/lib/python3.10/dist-packages (from langchain_community) (0.2.10)\n",
            "Requirement already satisfied: langsmith<0.2.0,>=0.1.0 in /usr/local/lib/python3.10/dist-packages (from langchain_community) (0.1.83)\n",
            "Requirement already satisfied: numpy<2,>=1 in /usr/local/lib/python3.10/dist-packages (from langchain_community) (1.25.2)\n",
            "Requirement already satisfied: requests<3,>=2 in /usr/local/lib/python3.10/dist-packages (from langchain_community) (2.31.0)\n",
            "Requirement already satisfied: tenacity!=8.4.0,<9.0.0,>=8.1.0 in /usr/local/lib/python3.10/dist-packages (from langchain_community) (8.4.2)\n",
            "Requirement already satisfied: aiosignal>=1.1.2 in /usr/local/lib/python3.10/dist-packages (from aiohttp<4.0.0,>=3.8.3->langchain_community) (1.3.1)\n",
            "Requirement already satisfied: attrs>=17.3.0 in /usr/local/lib/python3.10/dist-packages (from aiohttp<4.0.0,>=3.8.3->langchain_community) (23.2.0)\n",
            "Requirement already satisfied: frozenlist>=1.1.1 in /usr/local/lib/python3.10/dist-packages (from aiohttp<4.0.0,>=3.8.3->langchain_community) (1.4.1)\n",
            "Requirement already satisfied: multidict<7.0,>=4.5 in /usr/local/lib/python3.10/dist-packages (from aiohttp<4.0.0,>=3.8.3->langchain_community) (6.0.5)\n",
            "Requirement already satisfied: yarl<2.0,>=1.0 in /usr/local/lib/python3.10/dist-packages (from aiohttp<4.0.0,>=3.8.3->langchain_community) (1.9.4)\n",
            "Requirement already satisfied: async-timeout<5.0,>=4.0 in /usr/local/lib/python3.10/dist-packages (from aiohttp<4.0.0,>=3.8.3->langchain_community) (4.0.3)\n",
            "Collecting marshmallow<4.0.0,>=3.18.0 (from dataclasses-json<0.7,>=0.5.7->langchain_community)\n",
            "  Downloading marshmallow-3.21.3-py3-none-any.whl (49 kB)\n",
            "\u001b[2K     \u001b[90m━━━━━━━━━━━━━━━━━━━━━━━━━━━━━━━━━━━━━━━━\u001b[0m \u001b[32m49.2/49.2 kB\u001b[0m \u001b[31m8.1 MB/s\u001b[0m eta \u001b[36m0:00:00\u001b[0m\n",
            "\u001b[?25hCollecting typing-inspect<1,>=0.4.0 (from dataclasses-json<0.7,>=0.5.7->langchain_community)\n",
            "  Downloading typing_inspect-0.9.0-py3-none-any.whl (8.8 kB)\n",
            "Requirement already satisfied: langchain-text-splitters<0.3.0,>=0.2.0 in /usr/local/lib/python3.10/dist-packages (from langchain<0.3.0,>=0.2.6->langchain_community) (0.2.2)\n",
            "Requirement already satisfied: pydantic<3,>=1 in /usr/local/lib/python3.10/dist-packages (from langchain<0.3.0,>=0.2.6->langchain_community) (1.10.8)\n",
            "Requirement already satisfied: jsonpatch<2.0,>=1.33 in /usr/local/lib/python3.10/dist-packages (from langchain-core<0.3.0,>=0.2.10->langchain_community) (1.33)\n",
            "Requirement already satisfied: packaging<25,>=23.2 in /usr/local/lib/python3.10/dist-packages (from langchain-core<0.3.0,>=0.2.10->langchain_community) (24.1)\n",
            "Requirement already satisfied: orjson<4.0.0,>=3.9.14 in /usr/local/lib/python3.10/dist-packages (from langsmith<0.2.0,>=0.1.0->langchain_community) (3.10.6)\n",
            "Requirement already satisfied: charset-normalizer<4,>=2 in /usr/local/lib/python3.10/dist-packages (from requests<3,>=2->langchain_community) (3.3.2)\n",
            "Requirement already satisfied: idna<4,>=2.5 in /usr/local/lib/python3.10/dist-packages (from requests<3,>=2->langchain_community) (3.7)\n",
            "Requirement already satisfied: urllib3<3,>=1.21.1 in /usr/local/lib/python3.10/dist-packages (from requests<3,>=2->langchain_community) (2.0.7)\n",
            "Requirement already satisfied: certifi>=2017.4.17 in /usr/local/lib/python3.10/dist-packages (from requests<3,>=2->langchain_community) (2024.6.2)\n",
            "Requirement already satisfied: typing-extensions>=4.6.0 in /usr/local/lib/python3.10/dist-packages (from SQLAlchemy<3,>=1.4->langchain_community) (4.12.2)\n",
            "Requirement already satisfied: greenlet!=0.4.17 in /usr/local/lib/python3.10/dist-packages (from SQLAlchemy<3,>=1.4->langchain_community) (3.0.3)\n",
            "Requirement already satisfied: jsonpointer>=1.9 in /usr/local/lib/python3.10/dist-packages (from jsonpatch<2.0,>=1.33->langchain-core<0.3.0,>=0.2.10->langchain_community) (3.0.0)\n",
            "Collecting mypy-extensions>=0.3.0 (from typing-inspect<1,>=0.4.0->dataclasses-json<0.7,>=0.5.7->langchain_community)\n",
            "  Downloading mypy_extensions-1.0.0-py3-none-any.whl (4.7 kB)\n",
            "Installing collected packages: mypy-extensions, marshmallow, typing-inspect, dataclasses-json, langchain_community\n",
            "Successfully installed dataclasses-json-0.6.7 langchain_community-0.2.6 marshmallow-3.21.3 mypy-extensions-1.0.0 typing-inspect-0.9.0\n",
            "Collecting pypdf\n",
            "  Downloading pypdf-4.2.0-py3-none-any.whl (290 kB)\n",
            "\u001b[2K     \u001b[90m━━━━━━━━━━━━━━━━━━━━━━━━━━━━━━━━━━━━━━━━\u001b[0m \u001b[32m290.4/290.4 kB\u001b[0m \u001b[31m9.8 MB/s\u001b[0m eta \u001b[36m0:00:00\u001b[0m\n",
            "\u001b[?25hRequirement already satisfied: typing_extensions>=4.0 in /usr/local/lib/python3.10/dist-packages (from pypdf) (4.12.2)\n",
            "Installing collected packages: pypdf\n",
            "Successfully installed pypdf-4.2.0\n"
          ]
        }
      ]
    },
    {
      "cell_type": "code",
      "source": [
        "from pinecone import Pinecone, ServerlessSpec\n",
        "\n",
        "import os\n",
        "from google.colab import userdata\n",
        "api = userdata.get('PINECONE_API_KEY')\n",
        "# Replace 'your-api-key' with your actual Pinecone API key\n",
        "os.environ[\"PINECONE_API_KEY\"] = api\n"
      ],
      "metadata": {
        "id": "W_Q_6H4HyZCB"
      },
      "execution_count": null,
      "outputs": []
    },
    {
      "cell_type": "code",
      "source": [
        "from google.colab import userdata\n",
        "OPENAI_API_KEY = userdata.get('solvelty')\n",
        "# Replace 'your-api-key' with your actual Pinecone API key\n",
        "os.getenv(\"OPENAI_API_KEY\")"
      ],
      "metadata": {
        "id": "ArMD3jALyceG"
      },
      "execution_count": null,
      "outputs": []
    },
    {
      "cell_type": "code",
      "source": [
        "!pip install PyPDF2"
      ],
      "metadata": {
        "colab": {
          "base_uri": "https://localhost:8080/"
        },
        "id": "8L6t_Vc62T3b",
        "outputId": "766d6cfd-ae71-499a-f3e4-3718bb4287ac"
      },
      "execution_count": null,
      "outputs": [
        {
          "output_type": "stream",
          "name": "stdout",
          "text": [
            "Collecting PyPDF2\n",
            "  Downloading pypdf2-3.0.1-py3-none-any.whl (232 kB)\n",
            "\u001b[?25l     \u001b[90m━━━━━━━━━━━━━━━━━━━━━━━━━━━━━━━━━━━━━━━━\u001b[0m \u001b[32m0.0/232.6 kB\u001b[0m \u001b[31m?\u001b[0m eta \u001b[36m-:--:--\u001b[0m\r\u001b[2K     \u001b[91m━━━━━━━━━━━━━━━━━━━━━━━━━━━━━━━━━━━━━━\u001b[0m\u001b[91m╸\u001b[0m\u001b[90m━\u001b[0m \u001b[32m225.3/232.6 kB\u001b[0m \u001b[31m7.0 MB/s\u001b[0m eta \u001b[36m0:00:01\u001b[0m\r\u001b[2K     \u001b[90m━━━━━━━━━━━━━━━━━━━━━━━━━━━━━━━━━━━━━━━━\u001b[0m \u001b[32m232.6/232.6 kB\u001b[0m \u001b[31m6.0 MB/s\u001b[0m eta \u001b[36m0:00:00\u001b[0m\n",
            "\u001b[?25hInstalling collected packages: PyPDF2\n",
            "Successfully installed PyPDF2-3.0.1\n"
          ]
        }
      ]
    },
    {
      "cell_type": "code",
      "source": [
        "from langchain_openai.embeddings import OpenAIEmbeddings\n",
        "from langchain_openai.chat_models import ChatOpenAI\n",
        "from bs4 import BeautifulSoup\n",
        "import requests\n",
        "from langchain_core.documents import Document\n",
        "import PyPDF2\n",
        "from io import BytesIO\n",
        "from langchain_community.document_loaders import PyPDFLoader"
      ],
      "metadata": {
        "id": "rP1PYYKeyhuU"
      },
      "execution_count": null,
      "outputs": []
    },
    {
      "cell_type": "code",
      "source": [
        "model = ChatOpenAI(openai_api_key=OPENAI_API_KEY, model=\"gpt-3.5-turbo\")\n",
        "embeddings = OpenAIEmbeddings(model=\"text-embedding-3-large\", openai_api_key=OPENAI_API_KEY)"
      ],
      "metadata": {
        "id": "LcltcCN10Dzi"
      },
      "execution_count": null,
      "outputs": []
    },
    {
      "cell_type": "code",
      "source": [
        "from langchain.prompts import PromptTemplate\n",
        "\n",
        "template = \"\"\"\n",
        "You are a customer support personnel for Solvelty.\n",
        "Always sound polite and welcome customers warmly when they ask their first questions.\n",
        "Help customers navigate the platform with ease. Provide very accurate and very concise and precise answers to their queries about the company.\n",
        "Derive all your answers based on the information in the context provided.\n",
        "Write out the answer to the question directly .\n",
        "Even if you don't know the answer immediately, go through the context again and provide the most accurate answer and suggestion.\n",
        "\n",
        "Context: {context}\n",
        "\n",
        "Question: {question}\n",
        "\"\"\"\n",
        "prompt = PromptTemplate.from_template(template)"
      ],
      "metadata": {
        "id": "Ne7ma75W3-jU"
      },
      "execution_count": null,
      "outputs": []
    },
    {
      "cell_type": "code",
      "source": [
        "import requests\n",
        "# Load local PDF and add its contents to pages_content\n",
        "local_pdf_path = \"/content/Brand Guide .pdf\"\n",
        "pdf_loader = PyPDFLoader(local_pdf_path)\n",
        "pdf_documents = pdf_loader.load()\n",
        "print(pdf_documents)\n"
      ],
      "metadata": {
        "colab": {
          "base_uri": "https://localhost:8080/"
        },
        "id": "ip4L99IZ1SVa",
        "outputId": "606088fe-050a-4045-fe57-904c4353af7e"
      },
      "execution_count": null,
      "outputs": [
        {
          "output_type": "stream",
          "name": "stdout",
          "text": [
            "[Document(page_content='Solvety  \\nProject bio : A gamified User Research Platform that helps new -stage start -ups with user research and \\nthat helps participants share their data safely with fun and in a rewarding way.  \\nProject type : B2B and BTC  \\nProject Mission : to make the data sharing process fun, useful  and reliable . \\nProject Vision : To onboard 100M internet users into investing in future products by sharing useful data.  \\nProject Colour : Purple, Butter Mint and White (Pink and Lemon for minor details)  \\nProject F ont Style :  \\n \\nParty    Target \\nAudience \\nattribute  Target \\nAudience \\nInterest  Target \\nAudience \\nPain Points  Potential \\nbarriers to \\nbuy-in. \\nResearcher\\ns \\n(Customers)  Desire #1: \\nPower  \\n \\nEnd Goals:  \\nAuthority \\nCompetence\\n, \\nDomination \\nin Space.  \\n \\nAssociated \\nEmotion: \\nConfidence \\n(the ability \\nto feel \\ncertain and \\nassured in \\ntheir own \\nabilities.), \\ninfluence \\n(the ability \\nto affect \\ntheir \\ncustomers) \\nand get them \\nto do what \\nyou want.  \\n \\nBehaviour: \\nLeadership, \\nachievement  Desire #2: \\nAcceptance  \\n \\nEnd Goals:  \\nInnovation, \\npositive \\nUnderstandi\\nng (making \\ntheir \\ncustomers \\nfeel that \\ntheir needs \\nare \\nrecognized \\nand met, \\nthereby \\nmaking a \\nSocial \\nImpact)  \\n \\nAssociated \\nEmotion:  \\nConfidence  \\n \\nBehaviour:  \\nAssertive \\nbehaviour  Founders \\nand Product \\nManagers in \\ndigital Tech \\nindustr y of \\nstartups 0 -3 \\nyrs. To get the \\nopinions and \\nlearn more \\nabout their \\ntargeted \\ndemographi\\ncs in \\nNigeria,  \\n \\n to get \\nuseful and \\nreliable \\nopinions,  \\n \\nto get \\nassistance in \\nuser \\nresearch,  \\n \\nto manage \\ntime \\nefficiently \\nwithout \\ncompromisi\\nng data \\nresults,  \\n \\n to access  all \\nappropriate \\ntools for \\nefficient \\nuser \\nresearch Has no \\ncommunity, \\nenergy or \\ntime to \\nsource for \\nwilling \\nparticipants  \\n \\nfrustrated \\nwith the \\ntraditional \\nresearch \\nmethods and \\nlazy \\nresponses \\nfrom \\nparticipants,  \\n \\noverwhelme\\nd with lots \\nof tools to \\nwork with in \\nuser \\nresearch.  \\n \\nare new to \\nuser \\nresearch and \\nare in need \\nof guidance  \\n Budget \\nconstraint,  \\n \\nunderstandin\\ng of the \\nvalue of user \\nresearch,  \\n \\n lack of trust \\nand \\nawareness \\nof our \\nprodu ct,  \\n \\nprevious \\nnegative \\nexperience,  \\n \\nmisalignmen\\nt of goals \\nwith the \\nplatform,  \\n \\n resistance \\nto change of \\nplatform,  \\n \\n time \\nconstraint,  \\n ', metadata={'source': '/content/Brand Guide .pdf', 'page': 0}), Document(page_content=\"cost \\neffectively,  \\n \\nto manage \\nand \\ndocument \\nthe user \\nresearch \\nprocess  \\nParticipant\\ns (Users)  Desire #1: \\nCuriosity  \\n \\nEnd Goals: \\nKnowledge, \\ntruth  \\n \\nAssociated \\nEmotion: \\nWondermen\\nt \\n \\nBehaviour: \\nTruth -\\nseeking, \\nproblem -\\nsolving  Desire #2: \\nTranquility  \\n \\nEnd Goals: \\nRelaxation, \\nsafety  \\n \\nAssociated \\nEmotion: \\nSafety, \\nHumour  \\n \\nBehaviour: \\nAvoids \\nstressful \\nsituations  Tech \\npersons \\nfrom 16yrs \\nabove \\ninterested in \\nsharing their \\nopinions and \\nmqking  \\nimpact in \\nthe tech \\nspace.  Persons \\ninterested in \\nnew \\nproducts and \\ntech \\nproducts.  \\n \\n Low Privacy \\nand data \\nsecurity,  \\n \\ndemanding \\nand stressful \\nresearch \\nexperience,  \\n \\n Not able to \\nwithdraw \\nlow amounts \\nin usual \\nsurvey \\nplatforms.   \\n \\nUser research has never been so fun and fast  \\nSolvety help UX Researchers get useful data in order to make the market desire their product while \\nhelping the participants enjoy and get rewards for the data they share  \\nHello!, Solvety here  \\nWe understand that sharing data can sometimes feel like a chore, so that's why Solvety is designed to \\nmake it fun! We know that users have busy lives, so we want to make it easy for them to share their data \\nwithout feeling like they're sacrificing their ti me. \\n \\nWe want them to understand they're getting something out of it, and that they're making a valuable \\ncontribution to the businesses that use their data. Therefore, our product helps a targeted audience share \\ndata through a fun and engaging process, whil e also ensuring that the data is useful and reliable. We're \\nseeking a win -win for everyone!  \\nThat is to say that, On one hand, users get to have fun while sharing useful data, and on the other hand, \\nbusinesses get accurate and reliable data to help them mak e their products and services worthwhile.  \\n \\nResearcher's  \\nWhat does Solvety offer?  \\nUser research has never been so fun and fast  \", metadata={'source': '/content/Brand Guide .pdf', 'page': 1}), Document(page_content='Solvety help UX Researchers get useful data in order to make the market desire their product while \\nhelping the participants enjoy a nd get rewards for the data th ey share  \\nJoin Us  \\nTradition al Market/UX Research Platforms  \\nSolvety  \\n\"This form is so long, I\\'m starting to  think I\\'m applying for a job.\"  \\nSolvety is so fun, you\\'l l forget you\\'re giving feedback  \\n\"These responses are so empty, that I wonder if the partic ipants are forced to respond.\"  \\nSolvety is the only way to find out what your users really think, even if they don\\'t want to tell you.  \\n“I know what my target audience want but bu t it\\'s still not kinda helpful”  \\nSolvety not only tel ls you What but also t ells you Why  \\nWho we\\'re seeking to help and More  \\nA celebrity bored and looking for a fun way to kill time while w aiting for his flight to board.  \\nHello!, Solvety here  \\nWe understand that sharing data can sometimes feel like a cho re, so that\\'s why Solvety is designed to \\nmake it fun! We know that users have busy lives, so we want to make it easy for them to share their data \\nwithout feeling like they\\'re sacrificing their ti me. \\nWe want them to understand they\\'re getting something out of it, and that they\\'re making a valuable \\ncontribution to the businesses that use their data. Therefore, our product helps a targeted audience share \\ndata through a fun and engaging process, while also ensuring that the data is useful and reliable. We\\'re \\nseeking a win -win for everyone!  \\nThat is to say that, On one hand, users get to have fun while sharing useful data, and on the other hand, \\nbusinesses get accurate and reliable data to help them make their pr oducts and services worthwhile.  \\n \\nFAQ  \\nResearcher\\'s  \\nWha t does Solvety offer? You want to understand your audience in order to draft compelling and \\nrelatable copies? Or you desire to dominate and lead in your industry with your user-friendly designs. \\nWhat if you wish to launch outstanding products to increase y our confidence level in your game.  \\nSolvety is offering solutions designed for businesses and individuals with those needs that are building \\nspecifically for Nigerian audience through the use  of our advanced User Research.  \\nHow does Solvety differ from other  data collection platforms?  Unlike other Platforms , Our Product is \\nunique because  \\nFirst, we use gamification to make data collection more engaging and fun for users, and to ensure that you \\nobtain accurate, complete and reliable data. This makes our  approac h unique and effective. Second, We \\nprovide a range of research methods, including Surveys, Interviews, Card Sorting, Focus group, Product \\ntesting and more to meet your specific needs and give you flexibility. Third, We\\'ve developed a robust \\nplatform for fi nding and engaging with your target audience. This allows you to create highly targeted \\nresearch and distribute them to your ideal audience, ensuring that your user research is as us eful and \\nimpactful as possible. Fourth, Our platform is designed with newbi es in mind, with a simple and intuitive \\ninterface, anyone can create and launch research, even if they have no prior experience. This makes it \\neasy for anyone to get started with user research. Fifth, We have powerful data analysis and visualization \\ntools to help you track key metrics, compare results, and to get the m ost out of your collected data. Sixth, \\nOur fast research model allows you to get the insights you need in a fraction of the time it would  take ', metadata={'source': '/content/Brand Guide .pdf', 'page': 2}), Document(page_content='with traditional methods. Seventh, We focus specif ically on Nigerian users at the moment, tailoring a \\nhigh-quality and localized experience that  is truly unique. And more.... Our goal is to help you make better \\ndecisions and improve your product\\' ideas, designs or copies, so you can achieve success in your industry, \\nthrough high -quality data collection and analysis.  \\nHow do you ensure compliance with da ta protection regulations? We are committed to strict compliance \\nwith data protection regulations such as GDPR and others. Our policies and practices align with the legal \\nrequirements, and we continuously update our processes to stay in line with any chang es in the regulatory \\nlandscap e. \\nCan I control what d ata is collected about me? Absolutely. Our product is designed with user control in \\nmind. You have the ability to manage and customize your data preferences. We provide clear options for \\nopting in or out of specific data collection, e nsuring you have control over your personal information.  \\n \\nParticipants  \\nWhat do I stand to gain from joining Solvety? Are you a tech person that likes testing out new products? \\nOr you\\'re someone that desires sharing your opinion and thoughts in a meaningful way. Are you also \\nsomeone that loves ha ving fun while doing all these? Now that\\'s what Solvety gives you on a platter of \\ngold. The best part of the process is that you get rewards for doing something you enjoy.  \\n \\nHow is Solvety different from Sur vey Platfor ms?Well, first of all Solvety isn\\'t just a surve y tool but a \\nresearch platform. Usually, you login to survey websites hoping to help Projects by sharing needed \\ninformation but You\\'re then given a lo ng form of questions to answer.  \\nYou\\'re stressed, bored with  what you\\'re seeing and your time ticks away i n frustration but no one \\ncares. Therefore, So lvety is creating a new process  \\n1. where you give your opinions in a fun way through gamification.  \\n2. Where you get rewarded for the data you\\'re sharing.  \\nIs my data safe and can I control what d ata is collected about me? There are three things we prioritize; \\nyour anonymity, your data security and your ability to control what is collected about you.  1. Your \\npersonal identifiable information that can be traced to your r eal-world identity is carefully anonymized, \\nensuring that you cannot be iden tified from the collected data.  \\n2. We employ updated security measures, robust encryption, regular audits, and strict access controls to \\nminimize the risk of data breaches and unau thorized access. Ensuring the integrity and confidentiality of \\nyour infor mation is our day to day fight.  \\n3. We do not share your data with third parties without your explicit consent. We do all these while \\nimplementing a friendly interface where you can re view and control the data associated with your \\naccount.  \\nHow does the reward  works and can I withdraw ; This will be effected on your profile and fully when we \\nlaunch our Mainnet version but at the moment, you can keep on accumulating \"Qwes\" rewards via \"fren s \\ninvite\" and external \"quests taking\".  \\n \\nSolvety is Gamifying and rethinking user research process from scratch in order to enable \\nproduct leaders and market researchers to work with quality data.  \\nHere is our mission: To make the data sha ring process useful, fun and reliable.  \\nBusinesses should be able to obtain QUALITY data EASILY and QUICKLY based on three \\nsimple factors  ', metadata={'source': '/content/Brand Guide .pdf', 'page': 3}), Document(page_content='1.  \"Is the data from the targeted audience and how reliable is it?\".  \\n2. “How quickly can I get the responses and the data analysis”  \\n3. “How simple and how much effort would I have to put in inorder to get this degree of \\ndata quality”.  \\nEmpower Research Participants with the right context to share data based on three simple \\nfactors  \\n1. “Is the process fun to partake in?”  \\n2. “Does it inc entivize me right and enough to pay attention to it for its sake”  \\n3. “How do I participate in the research process without my verifiable response linking to \\nmy real -life identity”  \\n85% Of Products Fail When Startups Don’t Talk To Audience and Test before inv esting.  \\nTo put that into perspective, there are more than 100 million businesses that launch each year \\nin the world, so a significant number of these close each year.  According to Rob Holland, CEO \\nof research technology platform Feedback Loop, a lack of in -the-moment insights into \\nconsumers’ preferences isn’t unique to the pandemic.  \\n “Companies genuinely want to be customer centric —and even customer -led—but a majority of \\nproduct teams aren’t speaking with consumers regularly enough. This is often because th ey \\nthink research takes too long, they don’t have researchers, or they don’t have resources to \\ngather and speak with a group of targeted consumers quickly.”  Instead, they end up making \\nproduct decisions in a vacuum, which often leads to products that end u p failing . There are \\ndifferent methods of user research that can be used for gathering data which includes; surveys, \\ninterviews, Card Sorting, Focus good etc. However, the common problem that startups face \\nwhen researching their target audience includes  \\n1. There\\'s no much time for the entire process of user research which includes; getting \\nparticipants, giving them time to respond, analysing the data obtained etc  \\n2. There are limited or no researchers in the team  \\n3. It\\'s hard to find willing research participants  \\n4. Interested participants might not even be their target audience making the data not \\nuseful.  \\n5. Interested participants might be their target audience but scramble through the surveys \\nfor example because of how boring the process is.  \\n \\nAnd so on.  \\nStartups can on ly win when ; \\n* Product team can find out their customers\\' problems, their customers’ fears, learn their choice \\nof words, who they are, their motivations and their desires  \\n \\nSolvety is providing a gamified User Research Platform that helps Tech start -ups with user \\nresearch and that rewards participants during the data sharing.  \\nHow it Works  \\n● A friendly user interface that allows the researcher to make and start both simple and \\nadvanced research.  \\n● Advanced, time -saving  algorithm and mechanics that sends research offer to matched \\nparticipants in the platform.  ', metadata={'source': '/content/Brand Guide .pdf', 'page': 4}), Document(page_content=\"● AI and Gamification mechanics that incentivize participants to participate and enjoy the \\nprocess while ensuring the reliability of data.  \\n● Advanced user data privacy and data ownership that is verifiable without distortion of \\nprivacy powered by blockchain and DID.  \\n● Real-time research updates generated from our researcher app and advanced but user -\\nfriendly data analytics dashboard.  \\nSolvety is a user research platform tha t uses gamification, Blockchain and AI technology to \\noptimize data quality, save time, minimize effort while enjoying the participants enjoy the \\nprocess.  \\nTarget Audience:  Researchers includes Founders and Product Managers in digital Tech \\nindustry of startu ps of 0 -3 yrs.  \\nParticipants includes: Tech persons from 16yrs above.  \\nUser research industry is a 84.3 Billion -Dollar Annual Market . Survey market is 4973.66 Million -\\nDollar.  27,800 Fintech Startups and web3 projects.  Our 18 months goal is to onboard 500K \\ndigital tech users into investing in future products by sharing useful data via Survey.  Our big \\npicture market share is $29.51B ~ 35% of TAM.  \\nWhy we're different  \\nCompetitors  Solvety differentiation  \\nOther user research platforms offers only a \\nparticular  type of user research method and \\nlimited responses which affects Researchers \\nability to lay hands on and adjust to different \\nresearch methods depending on what the \\nsituation demands.  \\n \\n \\n There is an negligence and lack of quality \\ncontrol on the participant s’ experiences which \\naffects the reliability of data which the \\nResearchers obtains.  \\n \\n \\nThey also lack the ability to make the process \\nof obtaining data from participants fast as \\nthey don't have control over the participants \\nresponse behavior.  ● Enabling full interaction and fun \\nexperience for participants, and ability \\nto control reliability of input data \\nthrough gamification.  \\n● Advanced sample selection for \\nresearchers.  \\n● AI integration for research assistance \\nand quality data.  \\n● Advanced and AI -powered data \\nanalyti cs  \\n● Universal User research methods \\ncoverage.  \\n● Unlimited researchs and responses.  \\n● Integrates blockchain for data \\nownership and privacy.  \\n \\n \\nBusiness Model  \\nPay per Use ; Our platform takes 70% per research payment made.  \\nDifferent Research methods ; Revenue gen erated through offering access to different research \\nmethods.  \\nSolvety Points & Tokens ; In-app currency incentivizes and future launching of Solvety utility \\ntoken.  \", metadata={'source': '/content/Brand Guide .pdf', 'page': 5}), Document(page_content=\"Corporate Partnerships ; Revenue from collaborative and strategic partnerships.  Our pricing \\nstrategy is thoroughly researched for value -driven margins.  \\nUniqueness ; Solvety proprietary technology and focus on creating value makes us unique and \\nensures our sustainability.  \\nScalability ; As our user base grows, costs decrease, the networ k effect of our product takes \\nplace while we expand to other industries, ensuring scalability.  \\nContact ; Whatsapp and calls: +2349069379171  \\n \\nHow Qwesty Works!  \\nQwesty is a platform that's going to change the game of user and market research. It is a \\nplatform  for data collection and insight on people's experiences.  \\nWho is a Researcher  and how do Qwesty help \\nthem?  \\nAs a product manager, I understand the pain and struggle of new stage Start -up founders, UX \\ndesigners, UX writers, Market Researchers in finding rese arch participants especially those with \\nno community.It even get daunting as one has to go through the process of finding one's target \\naudience, and managing participants which is time -consuming and frustrating. We at Qwesty \\nunderstood this pain, which is why we're introducing a product that will solve the problem.  \\nThe pain and frustrations in trying to obtain reliable and useful data is what gave birth to \\nQwesty.  \\nWho is a Participant  and how do Qwesty help \\nthem?  \\nBut that isn't just where it ends.  \\nWhat abo ut the research participants? Those that give out this data and information to projects \\nand companies. Sometimes, these are just busy persons who wants to help businesses make \\ntheir products better, persons who wants to invest in products’ growth by giving  reliable data but \\ndo get stucked in the boring nature of the process that it begins to feel too much of a chore than \\na benefit.But that's where Qwesty comes in.  We will make data sharing fun, easy, and \\nengaging. It would be like a game, and participants would be rewarded for participating.  \\nOur Vision is a world where sharing data is something one look forward to. Where it's actually \\nfun and rewarding.  Where one isn't sacrificing their time or privacy.  And where businesses can \\nuse the data to make the p roducts and services we use every day even better.  \\n \", metadata={'source': '/content/Brand Guide .pdf', 'page': 6}), Document(page_content='Importance of User Research and Why Qwesty  \\nSo, Qwesty is a gamified user research platform that makes it easy to find and manage \\nparticipants.  With Qwesty, User and Market Researchers that are intereste d in Nigerian \\naudience can create and launch research studies quickly with more reliable data outcome.  \\nIn the end, this all comes down to one thing:  \"Market research is the foundation of successful \\nbusiness strategy. Without it, you\\'re just guessing.\" - Jeff Bezos, founder of Amazon  \\nProjects and businesses are already juggling a million things at once inorder to ship a good \\nproduct, already struggling with plenty of problems running a business, so getting useful and \\nreliable data shouldn\\'t be an extra burd en. \\nUnlike other Platforms, Our Product is unique because  \\n1st: We gamify the research process for the participants to enjoy the process itself.  \\n2nd: We protect the privacy of every participant.  \\n3rd: We also reward participants to make the quests worth loo king forward to.  \\n4th: We provide participants to projects.  \\n5th: We make the data useful by providing projects with their target audience.  \\n \\nWho\\'s Qwesty for?  \\nQwesty is for:  \\n- A Nigerian student looking for ways to make stipends for data, books or tuition.  \\n- A new stage Start -up or business owner looking for insights to help grow his/her \\nbusiness.  \\n- A market researcher looking for a better way to collect accurate data.  \\n- A busy Nigerian professional who wants to contribute to the world in a meaningful way.  \\n- A Nigeria n tech savvy who loves testing new products  \\n- A retiree who wants to stay mentally active and engaged.  \\n- A stay at home parent who wants to get rid of boredom  \\n- A Nigerian Web3 enthusiast who enjoys reviewing projects  \\n- And anyone who\\'s involve in data sharing pr ocess.  \\n \\nJoining the Waiting List  \\nTherefore, Our waiting list is an avenue to be ready for the new experience and future of UX \\nResearch.To join the waiting list, do the following:  \\n1. Go to the waiting list page  and click o n “Join Wait List ” \\n2. It will take you to the “Researcher” and “Participants” section. Click on “ Researcher ” if \\nyou\\'re trying to use Qwesty to find and participants, do your User research and its \\nanalytics. Or you click on “ Participants ” if you\\'re a Nigerian,  a tech savvy who loves \\nchecking out new Products and enjoy sharing useful information with Companies.  \\n3. Enter your email address and username  ', metadata={'source': '/content/Brand Guide .pdf', 'page': 7}), Document(page_content=\"4. Go to Gmail for a notification that would be sent to you  \\n5. Congrats! If you got a notification. It shows you're in an d can start inviting persons like \\nyou to experience the new mechanism of data sharing.  \\nIf not seen, please check out your email address to see if it's correct.  \\n \\nHow do I earn my Qwes  \\nWe're giving out 2000+ Qwes  to PARTICIPANTS who invite their friend to en joy Qwesty with \\nthem.The top 70th referrers will share 1,765 in the following order:  \\n1st to 3rd Rank - 45 Qwes  \\n4th to 10th Rank - 40 Qwes  \\n11th to 30th Rank - 25 Qwes  \\n31st to 70th Rank - 15 Qwes  \\nWhile All other referral will receive 10 Qwes.  \\n📌 The reward balance and your position on the referral page are not final, and the valid \\nparticipants will be rewarded if they are among the top referrers or other referrers.  \\nRemember, When Qwestiers get real Qwestees, it gets QWESTY!  \\n \", metadata={'source': '/content/Brand Guide .pdf', 'page': 8})]\n"
          ]
        }
      ]
    },
    {
      "cell_type": "code",
      "source": [
        "from langchain_core.output_parsers import StrOutputParser\n",
        "parser = StrOutputParser()"
      ],
      "metadata": {
        "id": "WSmYWZD-RsrU"
      },
      "execution_count": null,
      "outputs": []
    },
    {
      "cell_type": "code",
      "source": [
        "from langchain.text_splitter import RecursiveCharacterTextSplitter\n",
        "\n",
        "# Define initial chunk size and overlap\n",
        "chunk_size = 2000\n",
        "chunk_overlap = 400\n",
        "\n",
        "# Create a recursive text splitter with separators\n",
        "text_splitter = RecursiveCharacterTextSplitter(\n",
        "    chunk_size=chunk_size,\n",
        "    chunk_overlap=chunk_overlap,\n",
        "    separators=['\\n\\n', '\\n', '.', ' ']\n",
        ")\n"
      ],
      "metadata": {
        "id": "eJ0oslXg-cSd"
      },
      "execution_count": null,
      "outputs": []
    },
    {
      "cell_type": "code",
      "source": [
        "documents = text_splitter.split_documents(pdf_documents)\n",
        "documents[0]"
      ],
      "metadata": {
        "colab": {
          "base_uri": "https://localhost:8080/"
        },
        "id": "x7n5WWbBPxQJ",
        "outputId": "3d7c4721-afac-4685-9ce9-efe2a0b3ed8b"
      },
      "execution_count": null,
      "outputs": [
        {
          "output_type": "execute_result",
          "data": {
            "text/plain": [
              "Document(page_content='Solvety  \\nProject bio : A gamified User Research Platform that helps new -stage start -ups with user research and \\nthat helps participants share their data safely with fun and in a rewarding way.  \\nProject type : B2B and BTC  \\nProject Mission : to make the data sharing process fun, useful  and reliable . \\nProject Vision : To onboard 100M internet users into investing in future products by sharing useful data.  \\nProject Colour : Purple, Butter Mint and White (Pink and Lemon for minor details)  \\nProject F ont Style :  \\n \\nParty    Target \\nAudience \\nattribute  Target \\nAudience \\nInterest  Target \\nAudience \\nPain Points  Potential \\nbarriers to \\nbuy-in. \\nResearcher\\ns \\n(Customers)  Desire #1: \\nPower  \\n \\nEnd Goals:  \\nAuthority \\nCompetence\\n, \\nDomination \\nin Space.  \\n \\nAssociated \\nEmotion: \\nConfidence \\n(the ability \\nto feel \\ncertain and \\nassured in \\ntheir own \\nabilities.), \\ninfluence \\n(the ability \\nto affect \\ntheir \\ncustomers) \\nand get them \\nto do what \\nyou want.  \\n \\nBehaviour: \\nLeadership, \\nachievement  Desire #2: \\nAcceptance  \\n \\nEnd Goals:  \\nInnovation, \\npositive \\nUnderstandi\\nng (making \\ntheir \\ncustomers \\nfeel that \\ntheir needs \\nare \\nrecognized \\nand met, \\nthereby \\nmaking a \\nSocial \\nImpact)  \\n \\nAssociated \\nEmotion:  \\nConfidence  \\n \\nBehaviour:  \\nAssertive \\nbehaviour  Founders \\nand Product \\nManagers in \\ndigital Tech \\nindustr y of \\nstartups 0 -3 \\nyrs. To get the \\nopinions and \\nlearn more \\nabout their \\ntargeted \\ndemographi\\ncs in \\nNigeria,  \\n \\n to get \\nuseful and \\nreliable \\nopinions,  \\n \\nto get \\nassistance in \\nuser \\nresearch,  \\n \\nto manage \\ntime \\nefficiently \\nwithout \\ncompromisi\\nng data \\nresults,  \\n \\n to access  all \\nappropriate \\ntools for \\nefficient \\nuser \\nresearch Has no \\ncommunity, \\nenergy or \\ntime to \\nsource for \\nwilling \\nparticipants  \\n \\nfrustrated \\nwith the \\ntraditional \\nresearch \\nmethods and \\nlazy \\nresponses \\nfrom \\nparticipants,  \\n \\noverwhelme\\nd with lots \\nof tools to \\nwork with in \\nuser \\nresearch.  \\n \\nare new to \\nuser \\nresearch and \\nare in need \\nof guidance  \\n Budget', metadata={'source': '/content/Brand Guide .pdf', 'page': 0})"
            ]
          },
          "metadata": {},
          "execution_count": 11
        }
      ]
    },
    {
      "cell_type": "code",
      "source": [
        "documents[1]"
      ],
      "metadata": {
        "colab": {
          "base_uri": "https://localhost:8080/"
        },
        "id": "j9Fd3d9DTY9m",
        "outputId": "9f54445b-9375-4e51-a183-b9e7de268b28"
      },
      "execution_count": null,
      "outputs": [
        {
          "output_type": "execute_result",
          "data": {
            "text/plain": [
              "Document(page_content='results,  \\n \\n to access  all \\nappropriate \\ntools for \\nefficient \\nuser \\nresearch Has no \\ncommunity, \\nenergy or \\ntime to \\nsource for \\nwilling \\nparticipants  \\n \\nfrustrated \\nwith the \\ntraditional \\nresearch \\nmethods and \\nlazy \\nresponses \\nfrom \\nparticipants,  \\n \\noverwhelme\\nd with lots \\nof tools to \\nwork with in \\nuser \\nresearch.  \\n \\nare new to \\nuser \\nresearch and \\nare in need \\nof guidance  \\n Budget \\nconstraint,  \\n \\nunderstandin\\ng of the \\nvalue of user \\nresearch,  \\n \\n lack of trust \\nand \\nawareness \\nof our \\nprodu ct,  \\n \\nprevious \\nnegative \\nexperience,  \\n \\nmisalignmen\\nt of goals \\nwith the \\nplatform,  \\n \\n resistance \\nto change of \\nplatform,  \\n \\n time \\nconstraint,', metadata={'source': '/content/Brand Guide .pdf', 'page': 0})"
            ]
          },
          "metadata": {},
          "execution_count": 12
        }
      ]
    },
    {
      "cell_type": "code",
      "source": [
        "from langchain_pinecone import PineconeVectorStore\n",
        "\n",
        "index_name = \"sovelty\"\n",
        "\n",
        "pinecone = PineconeVectorStore.from_documents(\n",
        "    documents, embeddings, index_name=index_name\n",
        ")"
      ],
      "metadata": {
        "id": "HNQ4KmyIP1ni"
      },
      "execution_count": null,
      "outputs": []
    },
    {
      "cell_type": "code",
      "source": [
        "from langchain_core.runnables import RunnablePassthrough"
      ],
      "metadata": {
        "id": "lax3wD99P8AN"
      },
      "execution_count": null,
      "outputs": []
    },
    {
      "cell_type": "code",
      "source": [
        "chain = (\n",
        "    {\"context\": pinecone.as_retriever(), \"question\": RunnablePassthrough()}\n",
        "    | prompt\n",
        "    | model\n",
        "    | parser\n",
        ")"
      ],
      "metadata": {
        "id": "LgWmXFL8UWsU"
      },
      "execution_count": null,
      "outputs": []
    },
    {
      "cell_type": "code",
      "source": [
        "chain.invoke(\"in details can you explain what sovelty does\")"
      ],
      "metadata": {
        "colab": {
          "base_uri": "https://localhost:8080/",
          "height": 226
        },
        "id": "fhheGm65XVhL",
        "outputId": "eba6eb11-6093-4cc5-e646-5cb0a9aa093d"
      },
      "execution_count": null,
      "outputs": [
        {
          "output_type": "execute_result",
          "data": {
            "text/plain": [
              "'Solvelty is a research platform that offers solutions designed for businesses and individuals who want to understand their audience better in order to create compelling copies, user-friendly designs, and outstanding products. Solvelty stands out from other data collection platforms because it uses gamification to make data collection engaging and fun for users, ensuring accurate and reliable data. Solvelty provides a variety of research methods such as surveys, interviews, card sorting, focus groups, and product testing to meet specific needs. The platform also allows users to find and engage with their target audience easily, create highly targeted research, and analyze collected data efficiently. Solvelty prioritizes user anonymity, data security, and user control over their collected data. Additionally, Solvelty rewards users for sharing their data and aims to make the data sharing process useful, fun, and reliable for both users and businesses.'"
            ],
            "application/vnd.google.colaboratory.intrinsic+json": {
              "type": "string"
            }
          },
          "metadata": {},
          "execution_count": 19
        }
      ]
    },
    {
      "cell_type": "code",
      "source": [
        "chain.invoke(\"What is solvelty\")"
      ],
      "metadata": {
        "id": "ggS7y_8wXMja",
        "colab": {
          "base_uri": "https://localhost:8080/",
          "height": 70
        },
        "outputId": "4a507f8c-9e39-4e59-b1d8-e5a84ac2b154"
      },
      "execution_count": null,
      "outputs": [
        {
          "output_type": "execute_result",
          "data": {
            "text/plain": [
              "'Solvelty is a user research platform that uses gamification, Blockchain, and AI technology to optimize data quality, save time, minimize effort, and ensure participants enjoy the process.'"
            ],
            "application/vnd.google.colaboratory.intrinsic+json": {
              "type": "string"
            }
          },
          "metadata": {},
          "execution_count": 21
        }
      ]
    },
    {
      "cell_type": "code",
      "source": [],
      "metadata": {
        "id": "bH5ucFFfIMzX"
      },
      "execution_count": null,
      "outputs": []
    }
  ]
}